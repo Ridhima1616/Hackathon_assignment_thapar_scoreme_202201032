{
  "nbformat": 4,
  "nbformat_minor": 0,
  "metadata": {
    "colab": {
      "provenance": []
    },
    "kernelspec": {
      "name": "python3",
      "display_name": "Python 3"
    },
    "language_info": {
      "name": "python"
    }
  },
  "cells": [
    {
      "cell_type": "code",
      "source": [
        "!pip install pymupdf pandas openpyxl"
      ],
      "metadata": {
        "colab": {
          "base_uri": "https://localhost:8080/"
        },
        "id": "ET4RepQWrH3X",
        "outputId": "1d2d495a-2c2b-45d2-8e2b-c017c8f07ad9"
      },
      "execution_count": 1,
      "outputs": [
        {
          "output_type": "stream",
          "name": "stdout",
          "text": [
            "Collecting pymupdf\n",
            "  Downloading PyMuPDF-1.24.7-cp310-none-manylinux2014_x86_64.whl (3.5 MB)\n",
            "\u001b[2K     \u001b[90m━━━━━━━━━━━━━━━━━━━━━━━━━━━━━━━━━━━━━━━━\u001b[0m \u001b[32m3.5/3.5 MB\u001b[0m \u001b[31m11.8 MB/s\u001b[0m eta \u001b[36m0:00:00\u001b[0m\n",
            "\u001b[?25hRequirement already satisfied: pandas in /usr/local/lib/python3.10/dist-packages (2.0.3)\n",
            "Requirement already satisfied: openpyxl in /usr/local/lib/python3.10/dist-packages (3.1.5)\n",
            "Collecting PyMuPDFb==1.24.6 (from pymupdf)\n",
            "  Downloading PyMuPDFb-1.24.6-py3-none-manylinux2014_x86_64.manylinux_2_17_x86_64.whl (15.7 MB)\n",
            "\u001b[2K     \u001b[90m━━━━━━━━━━━━━━━━━━━━━━━━━━━━━━━━━━━━━━━━\u001b[0m \u001b[32m15.7/15.7 MB\u001b[0m \u001b[31m41.3 MB/s\u001b[0m eta \u001b[36m0:00:00\u001b[0m\n",
            "\u001b[?25hRequirement already satisfied: python-dateutil>=2.8.2 in /usr/local/lib/python3.10/dist-packages (from pandas) (2.8.2)\n",
            "Requirement already satisfied: pytz>=2020.1 in /usr/local/lib/python3.10/dist-packages (from pandas) (2023.4)\n",
            "Requirement already satisfied: tzdata>=2022.1 in /usr/local/lib/python3.10/dist-packages (from pandas) (2024.1)\n",
            "Requirement already satisfied: numpy>=1.21.0 in /usr/local/lib/python3.10/dist-packages (from pandas) (1.25.2)\n",
            "Requirement already satisfied: et-xmlfile in /usr/local/lib/python3.10/dist-packages (from openpyxl) (1.1.0)\n",
            "Requirement already satisfied: six>=1.5 in /usr/local/lib/python3.10/dist-packages (from python-dateutil>=2.8.2->pandas) (1.16.0)\n",
            "Installing collected packages: PyMuPDFb, pymupdf\n",
            "Successfully installed PyMuPDFb-1.24.6 pymupdf-1.24.7\n"
          ]
        }
      ]
    },
    {
      "cell_type": "code",
      "source": [
        "import fitz  # PyMuPDF\n",
        "import pandas as pd\n",
        "\n",
        "def extract_tables_from_pdf(pdf_path):\n",
        "    doc = fitz.open(pdf_path)\n",
        "    tables = []\n",
        "\n",
        "    for page_num in range(doc.page_count):\n",
        "        page = doc.load_page(page_num)\n",
        "        text = page.get_text(\"dict\")\n",
        "        blocks = text[\"blocks\"]\n",
        "\n",
        "        for block in blocks:\n",
        "            if block[\"type\"] == 0:  # Text block\n",
        "                lines = block[\"lines\"]\n",
        "                table = []\n",
        "                for line in lines:\n",
        "                    spans = line[\"spans\"]\n",
        "                    row = []\n",
        "                    for span in spans:\n",
        "                        row.append(span[\"text\"])\n",
        "                    table.append(row)\n",
        "                tables.append(table)\n",
        "\n",
        "    return tables"
      ],
      "metadata": {
        "id": "E37ugN_IrU_w"
      },
      "execution_count": 2,
      "outputs": []
    },
    {
      "cell_type": "code",
      "source": [
        "def tables_to_dataframes(tables):\n",
        "    dataframes = []\n",
        "    for table in tables:\n",
        "        df = pd.DataFrame(table)\n",
        "        dataframes.append(df)\n",
        "    return dataframes"
      ],
      "metadata": {
        "id": "yHxS2p4TsfR7"
      },
      "execution_count": 3,
      "outputs": []
    },
    {
      "cell_type": "code",
      "source": [
        "def export_to_excel(dataframes, output_path):\n",
        "    illegal_characters = ['\\x04', '\\x05', '\\x06', '\\x0B', '\\t']  # List of illegal characters found\n",
        "\n",
        "    with pd.ExcelWriter(output_path, engine='openpyxl') as writer:\n",
        "        for i, df in enumerate(dataframes):\n",
        "            # Clean the dataframe from illegal characters\n",
        "            cleaned_df = df.replace(illegal_characters, '', regex=True)\n",
        "            cleaned_df.to_excel(writer, sheet_name=f'Table_{i+1}', index=False)\n",
        "    print(f\"Tables have been exported to {output_path}\")"
      ],
      "metadata": {
        "id": "OYLZrXgcskmp"
      },
      "execution_count": 11,
      "outputs": []
    },
    {
      "cell_type": "code",
      "source": [
        "def main(pdf_path, output_path):\n",
        "    tables = extract_tables_from_pdf(pdf_path)\n",
        "    dataframes = tables_to_dataframes(tables)\n",
        "    export_to_excel(dataframes, output_path)\n",
        "\n",
        "if __name__ == \"__main__\":\n",
        "    pdf_path = \"test3.pdf\"  # PDF name\n",
        "    output_path = \"output_test3.xlsx\"  # Excel file\n",
        "    main(pdf_path, output_path)"
      ],
      "metadata": {
        "colab": {
          "base_uri": "https://localhost:8080/"
        },
        "id": "nnt7nRQOsr3-",
        "outputId": "6cd874a6-bb6b-4b7a-8373-943c1851eaa0"
      },
      "execution_count": 6,
      "outputs": [
        {
          "output_type": "stream",
          "name": "stdout",
          "text": [
            "Tables have been exported to output_test3.xlsx\n"
          ]
        }
      ]
    },
    {
      "cell_type": "code",
      "source": [
        "def main(pdf_path, output_path):\n",
        "    tables = extract_tables_from_pdf(pdf_path)\n",
        "    dataframes = tables_to_dataframes(tables)\n",
        "    export_to_excel(dataframes, output_path)\n",
        "\n",
        "if __name__ == \"__main__\":\n",
        "    pdf_path = \"test5.pdf\"  # PDF name\n",
        "    output_path = \"output_test5.xlsx\"  # Excel file\n",
        "    main(pdf_path, output_path)"
      ],
      "metadata": {
        "colab": {
          "base_uri": "https://localhost:8080/"
        },
        "id": "OYvk3oCftoWD",
        "outputId": "b7506345-5dcd-4a28-bc69-2d1906c7a141"
      },
      "execution_count": 7,
      "outputs": [
        {
          "output_type": "stream",
          "name": "stdout",
          "text": [
            "Tables have been exported to output_test5.xlsx\n"
          ]
        }
      ]
    },
    {
      "cell_type": "code",
      "source": [
        "def main(pdf_path, output_path):\n",
        "    tables = extract_tables_from_pdf(pdf_path)\n",
        "    dataframes = tables_to_dataframes(tables)\n",
        "    export_to_excel(dataframes, output_path)\n",
        "\n",
        "if __name__ == \"__main__\":\n",
        "    pdf_path = \"test6.pdf\"  # PDF name\n",
        "    output_path = \"output_test6.xlsx\"  # Excel file\n",
        "    main(pdf_path, output_path)"
      ],
      "metadata": {
        "id": "sluaeuNvzhpJ"
      },
      "execution_count": null,
      "outputs": []
    }
  ]
}